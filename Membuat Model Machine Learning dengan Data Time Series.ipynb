{
  "nbformat": 4,
  "nbformat_minor": 0,
  "metadata": {
    "colab": {
      "name": "Submisson_2.ipynb",
      "provenance": []
    },
    "kernelspec": {
      "name": "python3",
      "display_name": "Python 3"
    },
    "language_info": {
      "name": "python"
    },
    "accelerator": "GPU"
  },
  "cells": [
    {
      "cell_type": "markdown",
      "metadata": {
        "id": "mJCO-fa1b3YJ"
      },
      "source": [
        "Nama : Zulfikri\n",
        "\n",
        "Email : zulfikri263@gmail.com\n",
        "\n",
        "Alamat : Jalan Mustafa Yatim, Kota Pekanbaru, Riau\n",
        "\n",
        "**Proyek Kedua : Membuat Model Machine Learning dengan Data Time Series**"
      ]
    },
    {
      "cell_type": "code",
      "metadata": {
        "colab": {
          "base_uri": "https://localhost:8080/",
          "height": 417
        },
        "id": "whVltGMSkI62",
        "outputId": "7c83eb0a-6dbf-4328-c868-83d6053b57f2"
      },
      "source": [
        "import pandas as pd\n",
        "\n",
        "df = pd.read_csv('/content/drive/MyDrive/Metode Numerik/fetal_ecg.txt', delimiter='\\t')\n",
        "\n",
        "df"
      ],
      "execution_count": 2,
      "outputs": [
        {
          "output_type": "execute_result",
          "data": {
            "text/html": [
              "<div>\n",
              "<style scoped>\n",
              "    .dataframe tbody tr th:only-of-type {\n",
              "        vertical-align: middle;\n",
              "    }\n",
              "\n",
              "    .dataframe tbody tr th {\n",
              "        vertical-align: top;\n",
              "    }\n",
              "\n",
              "    .dataframe thead th {\n",
              "        text-align: right;\n",
              "    }\n",
              "</style>\n",
              "<table border=\"1\" class=\"dataframe\">\n",
              "  <thead>\n",
              "    <tr style=\"text-align: right;\">\n",
              "      <th></th>\n",
              "      <th>x</th>\n",
              "      <th>y</th>\n",
              "    </tr>\n",
              "  </thead>\n",
              "  <tbody>\n",
              "    <tr>\n",
              "      <th>0</th>\n",
              "      <td>0.000</td>\n",
              "      <td>28.800</td>\n",
              "    </tr>\n",
              "    <tr>\n",
              "      <th>1</th>\n",
              "      <td>0.001</td>\n",
              "      <td>26.700</td>\n",
              "    </tr>\n",
              "    <tr>\n",
              "      <th>2</th>\n",
              "      <td>0.002</td>\n",
              "      <td>24.800</td>\n",
              "    </tr>\n",
              "    <tr>\n",
              "      <th>3</th>\n",
              "      <td>0.003</td>\n",
              "      <td>23.800</td>\n",
              "    </tr>\n",
              "    <tr>\n",
              "      <th>4</th>\n",
              "      <td>0.004</td>\n",
              "      <td>23.600</td>\n",
              "    </tr>\n",
              "    <tr>\n",
              "      <th>...</th>\n",
              "      <td>...</td>\n",
              "      <td>...</td>\n",
              "    </tr>\n",
              "    <tr>\n",
              "      <th>9995</th>\n",
              "      <td>9.995</td>\n",
              "      <td>75.901</td>\n",
              "    </tr>\n",
              "    <tr>\n",
              "      <th>9996</th>\n",
              "      <td>9.996</td>\n",
              "      <td>85.901</td>\n",
              "    </tr>\n",
              "    <tr>\n",
              "      <th>9997</th>\n",
              "      <td>9.997</td>\n",
              "      <td>91.401</td>\n",
              "    </tr>\n",
              "    <tr>\n",
              "      <th>9998</th>\n",
              "      <td>9.998</td>\n",
              "      <td>91.301</td>\n",
              "    </tr>\n",
              "    <tr>\n",
              "      <th>9999</th>\n",
              "      <td>9.999</td>\n",
              "      <td>86.001</td>\n",
              "    </tr>\n",
              "  </tbody>\n",
              "</table>\n",
              "<p>10000 rows × 2 columns</p>\n",
              "</div>"
            ],
            "text/plain": [
              "          x       y\n",
              "0     0.000  28.800\n",
              "1     0.001  26.700\n",
              "2     0.002  24.800\n",
              "3     0.003  23.800\n",
              "4     0.004  23.600\n",
              "...     ...     ...\n",
              "9995  9.995  75.901\n",
              "9996  9.996  85.901\n",
              "9997  9.997  91.401\n",
              "9998  9.998  91.301\n",
              "9999  9.999  86.001\n",
              "\n",
              "[10000 rows x 2 columns]"
            ]
          },
          "metadata": {
            "tags": []
          },
          "execution_count": 2
        }
      ]
    },
    {
      "cell_type": "code",
      "metadata": {
        "colab": {
          "base_uri": "https://localhost:8080/",
          "height": 350
        },
        "id": "uKL5wNwsBx4N",
        "outputId": "1f751bb8-ac9c-4e04-ccf0-12c93a5e42ca"
      },
      "source": [
        "import matplotlib.pyplot as plt\n",
        "\n",
        "no = df['x'].values\n",
        "val  = df['y'].values\n",
        "\n",
        "plt.figure(figsize=(20,5))\n",
        "plt.plot(no, val)\n",
        "plt.title('Fetal ECG')\n",
        "plt.xlabel('Time(s)')\n",
        "plt.ylabel('Magnitude')\n",
        "plt.grid(axis='y')\n",
        "plt.show()"
      ],
      "execution_count": 4,
      "outputs": [
        {
          "output_type": "display_data",
          "data": {
            "image/png": "[encoded data removed]",
            "text/plain": [
              "<Figure size 1440x360 with 1 Axes>"
            ]
          },
          "metadata": {
            "tags": [],
            "needs_background": "light"
          }
        }
      ]
    },
    {
      "cell_type": "code",
      "metadata": {
        "id": "dkVdKfj5FJIT"
      },
      "source": [
        "def windowed_dataset(series, window_size, batch_size, shuffle_buffer):\n",
        "    series = tf.expand_dims(series, axis=-1)\n",
        "    ds = tf.data.Dataset.from_tensor_slices(series)\n",
        "    ds = ds.window(window_size + 1, shift=1, drop_remainder=True)\n",
        "    ds = ds.flat_map(lambda w: w.batch(window_size + 1))\n",
        "    ds = ds.shuffle(shuffle_buffer)\n",
        "    ds = ds.map(lambda w: (w[:-1], w[-1:]))\n",
        "    return ds.batch(batch_size).prefetch(1)"
      ],
      "execution_count": 5,
      "outputs": []
    },
    {
      "cell_type": "code",
      "metadata": {
        "colab": {
          "base_uri": "https://localhost:8080/"
        },
        "id": "OdPGQNITFMSC",
        "outputId": "68fdcc53-ff83-44f7-f42d-863eb67ddef5"
      },
      "source": [
        "import tensorflow as tf\n",
        "from tensorflow.keras.preprocessing.text import Tokenizer\n",
        "from tensorflow.keras.preprocessing.sequence import pad_sequences\n",
        "from sklearn.model_selection import train_test_split\n",
        "\n",
        "val_latih, val_test, no_latih, no_test = train_test_split(val, no, test_size=0.2, shuffle=False)\n",
        "\n",
        "print(len(no_latih), len(no_test), len(val_latih), len(val_test))"
      ],
      "execution_count": 8,
      "outputs": [
        {
          "output_type": "stream",
          "text": [
            "8000 2000 8000 2000\n"
          ],
          "name": "stdout"
        }
      ]
    },
    {
      "cell_type": "code",
      "metadata": {
        "colab": {
          "base_uri": "https://localhost:8080/"
        },
        "id": "PcKGk2uDD_9N",
        "outputId": "d96d7026-bf55-4e99-ce5a-84263ecb3126"
      },
      "source": [
        "max = df['y'].max()\n",
        "min = df['y'].min()\n",
        "\n",
        "mae = (max-min)*0.1\n",
        "\n",
        "print(mae)"
      ],
      "execution_count": 7,
      "outputs": [
        {
          "output_type": "stream",
          "text": [
            "31.930400000000006\n"
          ],
          "name": "stdout"
        }
      ]
    },
    {
      "cell_type": "code",
      "metadata": {
        "id": "TbUOjEL2FOqy",
        "colab": {
          "base_uri": "https://localhost:8080/",
          "height": 52
        },
        "outputId": "04b88493-2da6-4e43-e6ce-d4a351d3c7f8"
      },
      "source": [
        "train_set = windowed_dataset(val_latih, window_size=60, batch_size=128, shuffle_buffer=1000)\n",
        "\n",
        "model = tf.keras.models.Sequential([\n",
        "  tf.keras.layers.LSTM(60, return_sequences=True),\n",
        "  tf.keras.layers.LSTM(60),\n",
        "  tf.keras.layers.Dense(30, activation=\"relu\"),\n",
        "  tf.keras.layers.Dense(10, activation=\"relu\"),\n",
        "  tf.keras.layers.Dense(1),\n",
        "])\n",
        "\"\"\"\n",
        "class myCallback(tf.keras.callbacks.Callback):\n",
        "  def on_epoch_end(self, epoch, logs={}):\n",
        "    if(logs.get('mae')<mae):\n",
        "      print(\"mae <10% of data DONE!!\")\n",
        "      self.model.stop_training = True\n",
        "callbacks = myCallback()\n",
        "\"\"\""
      ],
      "execution_count": 9,
      "outputs": [
        {
          "output_type": "execute_result",
          "data": {
            "application/vnd.google.colaboratory.intrinsic+json": {
              "type": "string"
            },
            "text/plain": [
              "'\\nclass myCallback(tf.keras.callbacks.Callback):\\n  def on_epoch_end(self, epoch, logs={}):\\n    if(logs.get(\\'mae\\')<mae):\\n      print(\"mae <10% of data DONE!!\")\\n      self.model.stop_training = True\\ncallbacks = myCallback()\\n'"
            ]
          },
          "metadata": {
            "tags": []
          },
          "execution_count": 9
        }
      ]
    },
    {
      "cell_type": "code",
      "metadata": {
        "colab": {
          "base_uri": "https://localhost:8080/"
        },
        "id": "A2_e3MZbFR5K",
        "outputId": "32cacc66-fb17-4e97-ecae-6cf54d64ca25"
      },
      "source": [
        "optimizer = tf.keras.optimizers.Adam(learning_rate=0.001)\n",
        "model.compile(loss=tf.keras.losses.Huber(),\n",
        "              optimizer=optimizer,\n",
        "              metrics=[\"mae\"])\n",
        "history = model.fit(train_set,epochs=50)"
      ],
      "execution_count": 11,
      "outputs": [
        {
          "output_type": "stream",
          "text": [
            "Epoch 1/50\n",
            "63/63 [==============================] - 11s 23ms/step - loss: 30.9424 - mae: 31.4357\n",
            "Epoch 2/50\n",
            "63/63 [==============================] - 2s 22ms/step - loss: 20.0706 - mae: 20.5516\n",
            "Epoch 3/50\n",
            "63/63 [==============================] - 2s 22ms/step - loss: 8.5076 - mae: 8.9681\n",
            "Epoch 4/50\n",
            "63/63 [==============================] - 2s 23ms/step - loss: 2.8917 - mae: 3.3099\n",
            "Epoch 5/50\n",
            "63/63 [==============================] - 2s 23ms/step - loss: 1.6001 - mae: 2.0080\n",
            "Epoch 6/50\n",
            "63/63 [==============================] - 2s 23ms/step - loss: 1.5204 - mae: 1.9134\n",
            "Epoch 7/50\n",
            "63/63 [==============================] - 2s 23ms/step - loss: 0.9712 - mae: 1.3129\n",
            "Epoch 8/50\n",
            "63/63 [==============================] - 2s 22ms/step - loss: 0.7406 - mae: 1.0672\n",
            "Epoch 9/50\n",
            "63/63 [==============================] - 2s 23ms/step - loss: 0.6280 - mae: 0.9474\n",
            "Epoch 10/50\n",
            "63/63 [==============================] - 2s 23ms/step - loss: 0.5366 - mae: 0.8484\n",
            "Epoch 11/50\n",
            "63/63 [==============================] - 2s 24ms/step - loss: 0.4916 - mae: 0.8083\n",
            "Epoch 12/50\n",
            "63/63 [==============================] - 2s 23ms/step - loss: 0.4270 - mae: 0.7223\n",
            "Epoch 13/50\n",
            "63/63 [==============================] - 2s 23ms/step - loss: 0.6649 - mae: 1.0037\n",
            "Epoch 14/50\n",
            "63/63 [==============================] - 2s 23ms/step - loss: 0.8038 - mae: 1.1505\n",
            "Epoch 15/50\n",
            "63/63 [==============================] - 2s 22ms/step - loss: 0.4689 - mae: 0.7752\n",
            "Epoch 16/50\n",
            "63/63 [==============================] - 2s 23ms/step - loss: 0.3178 - mae: 0.5966\n",
            "Epoch 17/50\n",
            "63/63 [==============================] - 2s 23ms/step - loss: 0.2516 - mae: 0.4983\n",
            "Epoch 18/50\n",
            "63/63 [==============================] - 2s 22ms/step - loss: 0.2432 - mae: 0.4964\n",
            "Epoch 19/50\n",
            "63/63 [==============================] - 2s 23ms/step - loss: 0.2330 - mae: 0.4902\n",
            "Epoch 20/50\n",
            "63/63 [==============================] - 2s 22ms/step - loss: 0.2092 - mae: 0.4578\n",
            "Epoch 21/50\n",
            "63/63 [==============================] - 2s 23ms/step - loss: 0.2007 - mae: 0.4499\n",
            "Epoch 22/50\n",
            "63/63 [==============================] - 2s 23ms/step - loss: 0.1749 - mae: 0.4093\n",
            "Epoch 23/50\n",
            "63/63 [==============================] - 2s 22ms/step - loss: 0.1957 - mae: 0.4458\n",
            "Epoch 24/50\n",
            "63/63 [==============================] - 2s 23ms/step - loss: 0.2578 - mae: 0.5454\n",
            "Epoch 25/50\n",
            "63/63 [==============================] - 2s 23ms/step - loss: 0.1803 - mae: 0.4323\n",
            "Epoch 26/50\n",
            "63/63 [==============================] - 2s 23ms/step - loss: 0.2007 - mae: 0.4648\n",
            "Epoch 27/50\n",
            "63/63 [==============================] - 2s 23ms/step - loss: 0.1684 - mae: 0.4145\n",
            "Epoch 28/50\n",
            "63/63 [==============================] - 2s 23ms/step - loss: 0.2524 - mae: 0.5306\n",
            "Epoch 29/50\n",
            "63/63 [==============================] - 2s 23ms/step - loss: 0.2016 - mae: 0.4623\n",
            "Epoch 30/50\n",
            "63/63 [==============================] - 2s 22ms/step - loss: 0.1692 - mae: 0.4212\n",
            "Epoch 31/50\n",
            "63/63 [==============================] - 2s 23ms/step - loss: 0.1975 - mae: 0.4676\n",
            "Epoch 32/50\n",
            "63/63 [==============================] - 2s 23ms/step - loss: 0.1334 - mae: 0.3665\n",
            "Epoch 33/50\n",
            "63/63 [==============================] - 2s 23ms/step - loss: 0.1202 - mae: 0.3452\n",
            "Epoch 34/50\n",
            "63/63 [==============================] - 2s 22ms/step - loss: 0.1427 - mae: 0.3948\n",
            "Epoch 35/50\n",
            "63/63 [==============================] - 2s 23ms/step - loss: 0.1179 - mae: 0.3438\n",
            "Epoch 36/50\n",
            "63/63 [==============================] - 2s 22ms/step - loss: 0.1097 - mae: 0.3265\n",
            "Epoch 37/50\n",
            "63/63 [==============================] - 2s 23ms/step - loss: 0.1183 - mae: 0.3495\n",
            "Epoch 38/50\n",
            "63/63 [==============================] - 2s 23ms/step - loss: 0.1464 - mae: 0.3804\n",
            "Epoch 39/50\n",
            "63/63 [==============================] - 2s 23ms/step - loss: 0.1215 - mae: 0.3544\n",
            "Epoch 40/50\n",
            "63/63 [==============================] - 2s 23ms/step - loss: 0.1160 - mae: 0.3468\n",
            "Epoch 41/50\n",
            "63/63 [==============================] - 2s 23ms/step - loss: 0.1039 - mae: 0.3267\n",
            "Epoch 42/50\n",
            "63/63 [==============================] - 2s 23ms/step - loss: 0.1436 - mae: 0.3975\n",
            "Epoch 43/50\n",
            "63/63 [==============================] - 2s 23ms/step - loss: 0.1052 - mae: 0.3302\n",
            "Epoch 44/50\n",
            "63/63 [==============================] - 2s 23ms/step - loss: 0.1104 - mae: 0.3421\n",
            "Epoch 45/50\n",
            "63/63 [==============================] - 2s 24ms/step - loss: 0.1130 - mae: 0.3441\n",
            "Epoch 46/50\n",
            "63/63 [==============================] - 2s 23ms/step - loss: 0.1175 - mae: 0.3504\n",
            "Epoch 47/50\n",
            "63/63 [==============================] - 2s 23ms/step - loss: 0.1135 - mae: 0.3446\n",
            "Epoch 48/50\n",
            "63/63 [==============================] - 2s 23ms/step - loss: 0.0946 - mae: 0.3082\n",
            "Epoch 49/50\n",
            "63/63 [==============================] - 2s 23ms/step - loss: 0.1049 - mae: 0.3333\n",
            "Epoch 50/50\n",
            "63/63 [==============================] - 2s 23ms/step - loss: 0.0957 - mae: 0.3206\n"
          ],
          "name": "stdout"
        }
      ]
    }
  ]
}